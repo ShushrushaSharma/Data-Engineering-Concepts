{
 "cells": [
  {
   "cell_type": "markdown",
   "id": "4615fa28",
   "metadata": {},
   "source": [
    "Creating table with PostgreSQL"
   ]
  },
  {
   "cell_type": "code",
   "execution_count": 1,
   "id": "ebb4cabf",
   "metadata": {},
   "outputs": [
    {
     "name": "stdout",
     "output_type": "stream",
     "text": [
      "Requirement already satisfied: psycopg2 in c:\\users\\shush\\anaconda3\\lib\\site-packages (2.9.9)\n"
     ]
    }
   ],
   "source": [
    "# installing psycopg2\n",
    "\n",
    "!pip install psycopg2"
   ]
  },
  {
   "cell_type": "code",
   "execution_count": 2,
   "id": "58ef7416",
   "metadata": {},
   "outputs": [],
   "source": [
    "# importing the library\n",
    "\n",
    "import psycopg2"
   ]
  },
  {
   "cell_type": "code",
   "execution_count": 3,
   "id": "bbda8b1f",
   "metadata": {},
   "outputs": [],
   "source": [
    "# creating a connection to the database\n",
    "\n",
    "try:\n",
    "    conn = psycopg2.connect(\"host=localhost dbname=postgres user=postgres password=codehimalaya\")\n",
    "except psycopg2.Error as e:\n",
    "    print(\"Error while connecting to the Database\")\n",
    "    print(e)"
   ]
  },
  {
   "cell_type": "code",
   "execution_count": 4,
   "id": "9b6dc442",
   "metadata": {},
   "outputs": [],
   "source": [
    "# connection to get cursor that can be used to execute queries\n",
    "\n",
    "try:\n",
    "    cur = conn.cursor()\n",
    "except psycopg2.Error as e:\n",
    "    print(\"Error while getting cursor to the Database\")\n",
    "    print(e)"
   ]
  },
  {
   "cell_type": "code",
   "execution_count": 5,
   "id": "9b2e6282",
   "metadata": {},
   "outputs": [],
   "source": [
    "# committing each action in the database automatically\n",
    "\n",
    "conn.set_session(autocommit = True)"
   ]
  },
  {
   "cell_type": "code",
   "execution_count": 6,
   "id": "6cfb6894",
   "metadata": {},
   "outputs": [],
   "source": [
    "# creating the new database\n",
    "\n",
    "try:\n",
    "    cur.execute(\"create database data_model\")\n",
    "except psycopg2.Error as e:\n",
    "    print(e)"
   ]
  },
  {
   "cell_type": "code",
   "execution_count": 7,
   "id": "e8940f6a",
   "metadata": {},
   "outputs": [],
   "source": [
    "# closing the connection and reconnecting the database\n",
    "\n",
    "try:\n",
    "    conn.close()\n",
    "except psycopg2.Error as e:\n",
    "    print(e)\n",
    "\n",
    "try:\n",
    "    conn = psycopg2.connect(\"host=localhost dbname=data_model user=postgres password=codehimalaya\")\n",
    "except psycopg2.Error as e:\n",
    "    print(\"Error while connecting to the Database\")\n",
    "    print(e)\n",
    "    \n",
    "try:\n",
    "    cur = conn.cursor()\n",
    "except psycopg2.Error as e:\n",
    "    print(\"Error while getting cursor to the Database\")\n",
    "    print(e)\n",
    "    \n",
    "conn.set_session(autocommit = True)"
   ]
  },
  {
   "cell_type": "code",
   "execution_count": 8,
   "id": "bd425782",
   "metadata": {},
   "outputs": [],
   "source": [
    "# creating table for students\n",
    "\n",
    "try:\n",
    "    cur.execute(\"CREATE TABLE IF NOT EXISTS students (student_id int, name varchar, age int, gender varchar, \\\n",
    "    subject varchar, marks int);\")\n",
    "except psycopg2.Error as e:\n",
    "    print(\"Error while creating Table\")\n",
    "    print(e)"
   ]
  },
  {
   "cell_type": "code",
   "execution_count": 9,
   "id": "653d1fd2",
   "metadata": {},
   "outputs": [],
   "source": [
    "# inserting the data into the table\n",
    "\n",
    "try:\n",
    "    cur.execute(\"INSERT INTO students(student_id, name, age, gender, subject, marks) \\\n",
    "                VALUES (%s, %s, %s, %s, %s, %s)\", \n",
    "               (1, \"Shush\", 21, \"Female\", \"Maths\", \"96\"))\n",
    "except psycopg2.Error as e:\n",
    "    print(\"Error while inserting data\")\n",
    "    print(e)\n",
    "    \n",
    "try:\n",
    "    cur.execute(\"INSERT INTO students(student_id, name, age, gender, subject, marks) \\\n",
    "                VALUES (%s, %s, %s, %s, %s, %s)\", \n",
    "               (2, \"Bidushi\", 20, \"Female\", \"Maths\", \"99\"))\n",
    "except psycopg2.Error as e:\n",
    "    print(\"Error while inserting data\")\n",
    "    print(e)"
   ]
  },
  {
   "cell_type": "code",
   "execution_count": 10,
   "id": "4d068165",
   "metadata": {},
   "outputs": [
    {
     "name": "stdout",
     "output_type": "stream",
     "text": [
      "(1, 'Shush', 21, 'Female', 'Maths', 96)\n",
      "(2, 'Bidushi', 20, 'Female', 'Maths', 99)\n"
     ]
    }
   ],
   "source": [
    "try:\n",
    "    cur.execute(\"SELECT * FROM students;\")\n",
    "except psycopg2.Error as e:\n",
    "    print(\"Error while selecting data\")\n",
    "    print(e)\n",
    " \n",
    "row = cur.fetchone()\n",
    "while row:\n",
    "    print(row)\n",
    "    row = cur.fetchone()"
   ]
  },
  {
   "cell_type": "code",
   "execution_count": 11,
   "id": "ed5de2ef",
   "metadata": {},
   "outputs": [],
   "source": [
    "# closing curor and connection\n",
    "\n",
    "cur.close()\n",
    "conn.close()"
   ]
  }
 ],
 "metadata": {
  "kernelspec": {
   "display_name": "Python 3 (ipykernel)",
   "language": "python",
   "name": "python3"
  },
  "language_info": {
   "codemirror_mode": {
    "name": "ipython",
    "version": 3
   },
   "file_extension": ".py",
   "mimetype": "text/x-python",
   "name": "python",
   "nbconvert_exporter": "python",
   "pygments_lexer": "ipython3",
   "version": "3.11.5"
  }
 },
 "nbformat": 4,
 "nbformat_minor": 5
}
